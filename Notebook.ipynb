{
 "cells": [
  {
   "cell_type": "markdown",
   "metadata": {},
   "source": [
    "# Machine Learning Techniques for Network Tracing"
   ]
  },
  {
   "cell_type": "markdown",
   "metadata": {},
   "source": [
    "Authored by: Neel Kanwal"
   ]
  },
  {
   "cell_type": "markdown",
   "metadata": {},
   "source": [
    "Importing useful libraries for dataframes."
   ]
  },
  {
   "cell_type": "code",
   "execution_count": 1,
   "metadata": {},
   "outputs": [],
   "source": [
    "import numpy as np # importing libraries for to exploit dataframe and plotting operations on provided libraries\n",
    "import scipy as sp\n",
    "import pandas as pd\n",
    "import matplotlib.pyplot as plt\n",
    "%matplotlib inline\n",
    "import seaborn as sns"
   ]
  },
  {
   "cell_type": "markdown",
   "metadata": {},
   "source": [
    "Using log tcp labeled data as a dataframe where data is classified based on spaces, we used chunks in the beginning to simply the data loading operation for machine learning then applied it to whole log."
   ]
  },
  {
   "cell_type": "code",
   "execution_count": 2,
   "metadata": {},
   "outputs": [],
   "source": [
    "df=pd.read_csv(\"log_tcp_complete_classes.txt\", sep=\" \")"
   ]
  },
  {
   "cell_type": "markdown",
   "metadata": {},
   "source": [
    "Reading header of data on dataframe. We could also use head without braces to see in unscrolable way."
   ]
  },
  {
   "cell_type": "code",
   "execution_count": 3,
   "metadata": {},
   "outputs": [
    {
     "data": {
      "text/html": [
       "<div>\n",
       "<style scoped>\n",
       "    .dataframe tbody tr th:only-of-type {\n",
       "        vertical-align: middle;\n",
       "    }\n",
       "\n",
       "    .dataframe tbody tr th {\n",
       "        vertical-align: top;\n",
       "    }\n",
       "\n",
       "    .dataframe thead th {\n",
       "        text-align: right;\n",
       "    }\n",
       "</style>\n",
       "<table border=\"1\" class=\"dataframe\">\n",
       "  <thead>\n",
       "    <tr style=\"text-align: right;\">\n",
       "      <th></th>\n",
       "      <th>#31#c_ip:1</th>\n",
       "      <th>c_port:2</th>\n",
       "      <th>c_pkts_all:3</th>\n",
       "      <th>c_rst_cnt:4</th>\n",
       "      <th>c_ack_cnt:5</th>\n",
       "      <th>c_ack_cnt_p:6</th>\n",
       "      <th>c_bytes_uniq:7</th>\n",
       "      <th>c_pkts_data:8</th>\n",
       "      <th>c_bytes_all:9</th>\n",
       "      <th>c_pkts_retx:10</th>\n",
       "      <th>...</th>\n",
       "      <th>s_pkts_data_std:198</th>\n",
       "      <th>c_seg_cnt:199</th>\n",
       "      <th>c_sit_avg:200</th>\n",
       "      <th>c_sit_std:201</th>\n",
       "      <th>s_seg_cnt:202</th>\n",
       "      <th>s_sit_avg:203</th>\n",
       "      <th>s_sit_std:204</th>\n",
       "      <th>c_pkts_push:205</th>\n",
       "      <th>s_pkts_push:206</th>\n",
       "      <th>class:207</th>\n",
       "    </tr>\n",
       "  </thead>\n",
       "  <tbody>\n",
       "    <tr>\n",
       "      <th>0</th>\n",
       "      <td>246.25.63.48</td>\n",
       "      <td>60119</td>\n",
       "      <td>21</td>\n",
       "      <td>1</td>\n",
       "      <td>19</td>\n",
       "      <td>17</td>\n",
       "      <td>167</td>\n",
       "      <td>1</td>\n",
       "      <td>167</td>\n",
       "      <td>0</td>\n",
       "      <td>...</td>\n",
       "      <td>0.000000</td>\n",
       "      <td>0</td>\n",
       "      <td>0.0</td>\n",
       "      <td>0.0</td>\n",
       "      <td>25</td>\n",
       "      <td>12.589583</td>\n",
       "      <td>19.177348</td>\n",
       "      <td>1</td>\n",
       "      <td>2</td>\n",
       "      <td>class:google</td>\n",
       "    </tr>\n",
       "    <tr>\n",
       "      <th>1</th>\n",
       "      <td>246.216.210.193</td>\n",
       "      <td>48696</td>\n",
       "      <td>6</td>\n",
       "      <td>0</td>\n",
       "      <td>5</td>\n",
       "      <td>3</td>\n",
       "      <td>200</td>\n",
       "      <td>1</td>\n",
       "      <td>200</td>\n",
       "      <td>0</td>\n",
       "      <td>...</td>\n",
       "      <td>0.000000</td>\n",
       "      <td>0</td>\n",
       "      <td>0.0</td>\n",
       "      <td>0.0</td>\n",
       "      <td>0</td>\n",
       "      <td>0.000000</td>\n",
       "      <td>0.000000</td>\n",
       "      <td>1</td>\n",
       "      <td>1</td>\n",
       "      <td>class:google</td>\n",
       "    </tr>\n",
       "    <tr>\n",
       "      <th>2</th>\n",
       "      <td>246.216.210.193</td>\n",
       "      <td>57238</td>\n",
       "      <td>6</td>\n",
       "      <td>0</td>\n",
       "      <td>5</td>\n",
       "      <td>3</td>\n",
       "      <td>200</td>\n",
       "      <td>1</td>\n",
       "      <td>200</td>\n",
       "      <td>0</td>\n",
       "      <td>...</td>\n",
       "      <td>0.000000</td>\n",
       "      <td>0</td>\n",
       "      <td>0.0</td>\n",
       "      <td>0.0</td>\n",
       "      <td>0</td>\n",
       "      <td>0.000000</td>\n",
       "      <td>0.000000</td>\n",
       "      <td>1</td>\n",
       "      <td>1</td>\n",
       "      <td>class:google</td>\n",
       "    </tr>\n",
       "    <tr>\n",
       "      <th>3</th>\n",
       "      <td>246.25.147.110</td>\n",
       "      <td>43053</td>\n",
       "      <td>20</td>\n",
       "      <td>1</td>\n",
       "      <td>18</td>\n",
       "      <td>16</td>\n",
       "      <td>167</td>\n",
       "      <td>1</td>\n",
       "      <td>167</td>\n",
       "      <td>0</td>\n",
       "      <td>...</td>\n",
       "      <td>0.000000</td>\n",
       "      <td>0</td>\n",
       "      <td>0.0</td>\n",
       "      <td>0.0</td>\n",
       "      <td>34</td>\n",
       "      <td>9.830455</td>\n",
       "      <td>33.152877</td>\n",
       "      <td>1</td>\n",
       "      <td>0</td>\n",
       "      <td>class:google</td>\n",
       "    </tr>\n",
       "    <tr>\n",
       "      <th>4</th>\n",
       "      <td>254.211.188.176</td>\n",
       "      <td>52660</td>\n",
       "      <td>20</td>\n",
       "      <td>0</td>\n",
       "      <td>19</td>\n",
       "      <td>17</td>\n",
       "      <td>439</td>\n",
       "      <td>1</td>\n",
       "      <td>439</td>\n",
       "      <td>0</td>\n",
       "      <td>...</td>\n",
       "      <td>113.991744</td>\n",
       "      <td>0</td>\n",
       "      <td>0.0</td>\n",
       "      <td>0.0</td>\n",
       "      <td>17</td>\n",
       "      <td>11.591938</td>\n",
       "      <td>17.092896</td>\n",
       "      <td>1</td>\n",
       "      <td>1</td>\n",
       "      <td>class:google</td>\n",
       "    </tr>\n",
       "  </tbody>\n",
       "</table>\n",
       "<p>5 rows × 207 columns</p>\n",
       "</div>"
      ],
      "text/plain": [
       "        #31#c_ip:1  c_port:2  c_pkts_all:3  c_rst_cnt:4  c_ack_cnt:5  \\\n",
       "0     246.25.63.48     60119            21            1           19   \n",
       "1  246.216.210.193     48696             6            0            5   \n",
       "2  246.216.210.193     57238             6            0            5   \n",
       "3   246.25.147.110     43053            20            1           18   \n",
       "4  254.211.188.176     52660            20            0           19   \n",
       "\n",
       "   c_ack_cnt_p:6  c_bytes_uniq:7  c_pkts_data:8  c_bytes_all:9  \\\n",
       "0             17             167              1            167   \n",
       "1              3             200              1            200   \n",
       "2              3             200              1            200   \n",
       "3             16             167              1            167   \n",
       "4             17             439              1            439   \n",
       "\n",
       "   c_pkts_retx:10      ...       s_pkts_data_std:198  c_seg_cnt:199  \\\n",
       "0               0      ...                  0.000000              0   \n",
       "1               0      ...                  0.000000              0   \n",
       "2               0      ...                  0.000000              0   \n",
       "3               0      ...                  0.000000              0   \n",
       "4               0      ...                113.991744              0   \n",
       "\n",
       "   c_sit_avg:200  c_sit_std:201 s_seg_cnt:202  s_sit_avg:203  s_sit_std:204  \\\n",
       "0            0.0            0.0            25      12.589583      19.177348   \n",
       "1            0.0            0.0             0       0.000000       0.000000   \n",
       "2            0.0            0.0             0       0.000000       0.000000   \n",
       "3            0.0            0.0            34       9.830455      33.152877   \n",
       "4            0.0            0.0            17      11.591938      17.092896   \n",
       "\n",
       "   c_pkts_push:205  s_pkts_push:206     class:207  \n",
       "0                1                2  class:google  \n",
       "1                1                1  class:google  \n",
       "2                1                1  class:google  \n",
       "3                1                0  class:google  \n",
       "4                1                1  class:google  \n",
       "\n",
       "[5 rows x 207 columns]"
      ]
     },
     "execution_count": 3,
     "metadata": {},
     "output_type": "execute_result"
    }
   ],
   "source": [
    "df.head()"
   ]
  },
  {
   "cell_type": "markdown",
   "metadata": {},
   "source": [
    "We can see the columns to understand the categorical and numerical features for our machine learning algorithms"
   ]
  },
  {
   "cell_type": "code",
   "execution_count": 4,
   "metadata": {},
   "outputs": [
    {
     "data": {
      "text/plain": [
       "Index(['#31#c_ip:1', 'c_port:2', 'c_pkts_all:3', 'c_rst_cnt:4', 'c_ack_cnt:5',\n",
       "       'c_ack_cnt_p:6', 'c_bytes_uniq:7', 'c_pkts_data:8', 'c_bytes_all:9',\n",
       "       'c_pkts_retx:10',\n",
       "       ...\n",
       "       's_pkts_data_std:198', 'c_seg_cnt:199', 'c_sit_avg:200',\n",
       "       'c_sit_std:201', 's_seg_cnt:202', 's_sit_avg:203', 's_sit_std:204',\n",
       "       'c_pkts_push:205', 's_pkts_push:206', 'class:207'],\n",
       "      dtype='object', length=207)"
      ]
     },
     "execution_count": 4,
     "metadata": {},
     "output_type": "execute_result"
    }
   ],
   "source": [
    "df.columns"
   ]
  },
  {
   "cell_type": "markdown",
   "metadata": {},
   "source": [
    "Choosing features based on distinction in difference labeled classes, we may choose these features based on any logical or numerical order and It is quite obserable the data classified by youtube has higher packet size than data travelling to google. Some of the futures are chosen based on different values in all classes such as 's_seg_cnt:202'."
   ]
  },
  {
   "cell_type": "code",
   "execution_count": 5,
   "metadata": {},
   "outputs": [],
   "source": [
    "feature_cols= np.arange(173,165).tolist() + np.arange(141,150).tolist() + np.arange(153,162).tolist() \\\n",
    "+ np.arange(131,140).tolist() + np.arange(174,182).tolist() + np.arange(183,191).tolist()+[41,200,204,9, 2,5,6, 16, 30, 45, 52];\n",
    "categorical_features = ['s_sit_avg:203']"
   ]
  },
  {
   "cell_type": "markdown",
   "metadata": {},
   "source": [
    "One hot encoding is a process by which categorical variables are converted into a form that could be provided to ML algorithms to do a better job in prediction.The categorical value represents the numerical value of the entry in the dataset. IN OneHotEncoder we put sparse equal to false so that it can return a matrix not an array. We use first column of categorical feature used for encoding."
   ]
  },
  {
   "cell_type": "code",
   "execution_count": 6,
   "metadata": {},
   "outputs": [
    {
     "data": {
      "text/plain": [
       "array([[0.0000000e+00, 0.0000000e+00, 1.0000000e+00, ..., 1.0051780e+03,\n",
       "        1.1925000e+01, 0.0000000e+00],\n",
       "       [0.0000000e+00, 1.0000000e+00, 0.0000000e+00, ..., 5.6728460e+03,\n",
       "        1.2197000e+01, 2.2559000e+01],\n",
       "       [0.0000000e+00, 1.0000000e+00, 0.0000000e+00, ..., 5.6743050e+03,\n",
       "        1.1973000e+01, 2.2740000e+01],\n",
       "       ...,\n",
       "       [1.0000000e+00, 0.0000000e+00, 0.0000000e+00, ..., 3.0437000e+01,\n",
       "        3.0437000e+01, 0.0000000e+00],\n",
       "       [1.0000000e+00, 0.0000000e+00, 0.0000000e+00, ..., 3.0565000e+01,\n",
       "        3.0565000e+01, 0.0000000e+00],\n",
       "       [1.0000000e+00, 0.0000000e+00, 0.0000000e+00, ..., 2.0795599e+04,\n",
       "        3.0161000e+01, 2.2382000e+01]])"
      ]
     },
     "execution_count": 6,
     "metadata": {},
     "output_type": "execute_result"
    }
   ],
   "source": [
    "from sklearn.preprocessing import OneHotEncoder\n",
    "ohe = OneHotEncoder(sparse=False,categorical_features=[0])\n",
    "# using the return value of one hot encoder for fitting over selected features\n",
    "X_trans = ohe.fit_transform(df.iloc[:, feature_cols])\n",
    "X_trans\n"
   ]
  },
  {
   "cell_type": "markdown",
   "metadata": {},
   "source": [
    "We can observe the parameters of transformed encoder. It can be seen that for unknown catergorical feature we ignore the stuff. n_values is auto which means it will determine the range from training data."
   ]
  },
  {
   "cell_type": "code",
   "execution_count": 7,
   "metadata": {},
   "outputs": [
    {
     "data": {
      "text/plain": [
       "{'categorical_features': [0],\n",
       " 'dtype': numpy.float64,\n",
       " 'handle_unknown': 'error',\n",
       " 'n_values': 'auto',\n",
       " 'sparse': False}"
      ]
     },
     "execution_count": 7,
     "metadata": {},
     "output_type": "execute_result"
    }
   ],
   "source": [
    "\n",
    "feature_names=ohe.get_params(deep=True)\n",
    "feature_names\n"
   ]
  },
  {
   "cell_type": "code",
   "execution_count": 8,
   "metadata": {},
   "outputs": [],
   "source": [
    "y=df['class:207']"
   ]
  },
  {
   "cell_type": "markdown",
   "metadata": {},
   "source": [
    "We are inputing encoded data to split for training in testing. As theoretically we can do it either 60/40 or 75/25. Default value that function takes is 0.25 for test size. Seed to randomize the data is 1 and we are straifying data based on labeled class in column 206. This help us to utilize better the supervized learning algorithms for our labeled data. "
   ]
  },
  {
   "cell_type": "code",
   "execution_count": 9,
   "metadata": {},
   "outputs": [
    {
     "name": "stdout",
     "output_type": "stream",
     "text": [
      "(75000, 695) (25000, 695)\n",
      "(75000,) (25000,)\n"
     ]
    }
   ],
   "source": [
    "from sklearn.model_selection import train_test_split\n",
    "\n",
    "X_train, X_test, y_train, y_test = train_test_split(X_trans, y, test_size=0.25, random_state=1, stratify=y)\n",
    "\n",
    "print(X_train.shape, X_test.shape)\n",
    "print(y_train.shape, y_test.shape)\n"
   ]
  },
  {
   "cell_type": "markdown",
   "metadata": {},
   "source": [
    "Standardization of a dataset is a common requirement for many machine learning estimators. They might behave badly if the individual features do not more or less look like standard normally distributed data. So this removes mean and scales it to unit variance which will be used to observe the validation curves."
   ]
  },
  {
   "cell_type": "code",
   "execution_count": 10,
   "metadata": {},
   "outputs": [],
   "source": [
    "from sklearn.preprocessing import StandardScaler\n",
    "scaler = StandardScaler()\n",
    "scaler.fit(X_train)\n",
    "X_tr_st = scaler.transform(X_train)\n",
    "X_test_st = scaler.transform(X_test)"
   ]
  },
  {
   "cell_type": "markdown",
   "metadata": {},
   "source": [
    "# Random Forest"
   ]
  },
  {
   "cell_type": "markdown",
   "metadata": {},
   "source": [
    "Random forest is a bagging technique for both classification and regression. The general concept is that you divide your data into several portions, use a relatively weak classifier/regressor to process, and then combine them. Firstly we wanted to use SVM. SVM is a type of supervised machine learning classification algorithm. In our case where data is dimensionalized and labeled.we can try a  typical machine learning algorithm tries to find a boundary that divides the data in such a way that the misclassification error can be minimized. Theoriticaly SVM finds an optimal decision boundry. \n",
    "SVC(Kernel='linear') and LinearSVC() are typically same algorithm implemented in different way as described by Sckilearn documentation. \n",
    "\n",
    "Random Forest here performs faster and is much computationaly cheaper than SVM and NN.In recent years, tress as being used for forescasting which also avoids short comings of traditional decision trees. In our case data is aligned so Random forest performs faster and develops higher accuracy on testing data. This algorithm can further be improved if we divide our training data in testing and validation.\n",
    "\n",
    "N_estimator parameter help to identify number of tress which is 100 in our case, intger multiple of 10  because we have 10 classes in our data. Tree performs well with depth 20, because we have many feature in a singles class so this is expanded until all leaves are pure or until all leaves contain less than minimum samples"
   ]
  },
  {
   "cell_type": "code",
   "execution_count": 57,
   "metadata": {},
   "outputs": [
    {
     "name": "stderr",
     "output_type": "stream",
     "text": [
      "[Parallel(n_jobs=1)]: Done 100 out of 100 | elapsed:   51.1s finished\n",
      "[Parallel(n_jobs=1)]: Done 100 out of 100 | elapsed:    1.4s finished\n"
     ]
    }
   ],
   "source": [
    "from sklearn.ensemble import RandomForestClassifier\n",
    "clf = RandomForestClassifier(n_estimators=100, max_depth=20,random_state=0,verbose=1)\n",
    "\n",
    "model = clf.fit(X_tr_st, y_train) # fitting with standarized data.\n",
    "predict = model.predict(X_test_st)\n"
   ]
  },
  {
   "cell_type": "markdown",
   "metadata": {},
   "source": [
    "This is accuracy score is pretty well and can be increased on the cost of heavy computation by increasing the estimator or depth on classifier. Max_feature parameter can be used to further explicit and divide feature to converge faster"
   ]
  },
  {
   "cell_type": "code",
   "execution_count": 58,
   "metadata": {},
   "outputs": [
    {
     "name": "stdout",
     "output_type": "stream",
     "text": [
      "0.95348\n"
     ]
    }
   ],
   "source": [
    "from sklearn import metrics\n",
    "\n",
    "acc = metrics.accuracy_score(y_test, predict) # measuring accuracy for test data. \n",
    "print(acc)"
   ]
  },
  {
   "cell_type": "markdown",
   "metadata": {},
   "source": [
    "We use find the unique classes name for confusion matrix to see probablistic classificaiton of all objects"
   ]
  },
  {
   "cell_type": "code",
   "execution_count": 33,
   "metadata": {},
   "outputs": [
    {
     "data": {
      "text/plain": [
       "array(['class:google', 'class:bing', 'class:linkedin', 'class:instagram',\n",
       "       'class:youtube', 'class:netflix', 'class:spotify',\n",
       "       'class:facebook', 'class:ebay', 'class:amazon'], dtype=object)"
      ]
     },
     "execution_count": 33,
     "metadata": {},
     "output_type": "execute_result"
    }
   ],
   "source": [
    "Labels=y.unique()\n",
    "Labels"
   ]
  },
  {
   "cell_type": "markdown",
   "metadata": {},
   "source": [
    "Plot show the distribution of classes on the probablisitc plane. The labels are in correspondance with numbers from 0 to 9. Some classes have higher predictability than other. "
   ]
  },
  {
   "cell_type": "code",
   "execution_count": 31,
   "metadata": {},
   "outputs": [
    {
     "data": {
      "image/png": "[encoded data removed]",
      "text/plain": [
       "<Figure size 432x288 with 2 Axes>"
      ]
     },
     "metadata": {},
     "output_type": "display_data"
    }
   ],
   "source": [
    "from sklearn.metrics import confusion_matrix\n",
    "rf = confusion_matrix(y_test, predict)\n",
    "fig = plt.figure()\n",
    "ax = fig.add_subplot(111)\n",
    "cax = ax.matshow(rf)\n",
    "plt.title('Confusion matrix of the RandomForest Classifier')\n",
    "fig.colorbar(cax)\n",
    "plt.xlabel('Predicted')\n",
    "plt.ylabel('True')\n",
    "plt.show()\n"
   ]
  },
  {
   "cell_type": "markdown",
   "metadata": {},
   "source": [
    "The report highlights the precision of test data validated for RF classifier. It can be seen that youtube has higher precisio because in the selected feature values for youtube flows were distinguished by higher packet size."
   ]
  },
  {
   "cell_type": "code",
   "execution_count": 34,
   "metadata": {},
   "outputs": [
    {
     "name": "stdout",
     "output_type": "stream",
     "text": [
      "                 precision    recall  f1-score   support\n",
      "\n",
      "class:instagram       0.94      0.97      0.95      2500\n",
      "   class:amazon       0.95      0.98      0.97      2500\n",
      "     class:bing       0.97      0.95      0.96      2500\n",
      "   class:google       0.96      0.94      0.95      2500\n",
      " class:linkedin       0.94      0.93      0.94      2500\n",
      "  class:spotify       0.96      0.96      0.96      2500\n",
      "     class:ebay       0.94      0.94      0.94      2500\n",
      " class:facebook       0.96      0.96      0.96      2500\n",
      "  class:youtube       0.98      0.97      0.98      2500\n",
      "  class:netflix       0.95      0.95      0.95      2500\n",
      "\n",
      "    avg / total       0.96      0.96      0.96     25000\n",
      "\n"
     ]
    }
   ],
   "source": [
    "print(metrics.classification_report(y_test, predict, target_names=y_test.unique()))"
   ]
  },
  {
   "cell_type": "markdown",
   "metadata": {},
   "source": [
    "This is just a roational test to observe how well our random forest classifier has been trained. We have set cv=8 to run eight iteration be choosing training data over the model. This is just an alternative report to one presented above. "
   ]
  },
  {
   "cell_type": "code",
   "execution_count": 60,
   "metadata": {},
   "outputs": [
    {
     "name": "stderr",
     "output_type": "stream",
     "text": [
      "[Parallel(n_jobs=1)]: Done 100 out of 100 | elapsed:   45.2s finished\n",
      "[Parallel(n_jobs=1)]: Done 100 out of 100 | elapsed:    0.4s finished\n",
      "[Parallel(n_jobs=1)]: Done 100 out of 100 | elapsed:   45.8s finished\n",
      "[Parallel(n_jobs=1)]: Done 100 out of 100 | elapsed:    0.4s finished\n",
      "[Parallel(n_jobs=1)]: Done 100 out of 100 | elapsed:   52.0s finished\n",
      "[Parallel(n_jobs=1)]: Done 100 out of 100 | elapsed:    0.5s finished\n",
      "[Parallel(n_jobs=1)]: Done 100 out of 100 | elapsed:   43.8s finished\n",
      "[Parallel(n_jobs=1)]: Done 100 out of 100 | elapsed:    0.5s finished\n",
      "[Parallel(n_jobs=1)]: Done 100 out of 100 | elapsed:   45.8s finished\n",
      "[Parallel(n_jobs=1)]: Done 100 out of 100 | elapsed:    0.4s finished\n",
      "[Parallel(n_jobs=1)]: Done 100 out of 100 | elapsed:   43.9s finished\n",
      "[Parallel(n_jobs=1)]: Done 100 out of 100 | elapsed:    0.4s finished\n",
      "[Parallel(n_jobs=1)]: Done 100 out of 100 | elapsed:   46.0s finished\n",
      "[Parallel(n_jobs=1)]: Done 100 out of 100 | elapsed:    0.4s finished\n",
      "[Parallel(n_jobs=1)]: Done 100 out of 100 | elapsed:   48.8s finished\n",
      "[Parallel(n_jobs=1)]: Done 100 out of 100 | elapsed:    0.4s finished\n"
     ]
    },
    {
     "data": {
      "text/plain": [
       "array([0.95010661, 0.95095949, 0.95341151, 0.95298507, 0.95368196,\n",
       "       0.95304162, 0.95336179, 0.95058698])"
      ]
     },
     "execution_count": 60,
     "metadata": {},
     "output_type": "execute_result"
    }
   ],
   "source": [
    "from sklearn.model_selection import cross_val_score\n",
    "scores = cross_val_score(clf, X_tr_st, y_train, cv=8)\n",
    "scores"
   ]
  },
  {
   "cell_type": "markdown",
   "metadata": {},
   "source": [
    "# Neural Network"
   ]
  },
  {
   "cell_type": "markdown",
   "metadata": {},
   "source": [
    "Neural network consists of many layers interconnected with nodes. Each nodes is called perceptron which is similar to multiple layer linear regression. Neural networks are good at modeling complex and non-linear relationships. This was performing much better than random forest in multi-classification. \n",
    "\n",
    "MLP is multilayer artifical nerual network that maps set of input data on appropriate outputs. Here in MLP Classifier we have used. We have utilized stochastic gradient decent 'sgd' as a solver and rectified linear unit to normalize the output. hyperbolic as a activation function for hidden layers. Because of Sgd we have implemented adapative learning rate which is modified after each epoch based on validation.Verbose is set ot true to print the progress for every iteration. Early stops helps to stop when validation is no more increasing for epochs which are set randomly."
   ]
  },
  {
   "cell_type": "code",
   "execution_count": 36,
   "metadata": {
    "scrolled": false
   },
   "outputs": [
    {
     "name": "stdout",
     "output_type": "stream",
     "text": [
      "Iteration 1, loss = 1.32644794\n",
      "Validation score: 0.685467\n",
      "Iteration 2, loss = 0.97880287\n",
      "Validation score: 0.737333\n",
      "Iteration 3, loss = 0.89185938\n",
      "Validation score: 0.747600\n",
      "Iteration 4, loss = 0.85588384\n",
      "Validation score: 0.757333\n",
      "Iteration 5, loss = 0.82612546\n",
      "Validation score: 0.791200\n",
      "Iteration 6, loss = 0.80246099\n",
      "Validation score: 0.784667\n",
      "Iteration 7, loss = 0.78095953\n",
      "Validation score: 0.779467\n",
      "Iteration 8, loss = 0.77235801\n",
      "Validation score: 0.790933\n",
      "Validation score did not improve more than tol=0.000100 for two consecutive epochs. Setting learning rate to 0.020000\n",
      "Iteration 9, loss = 0.65734605\n",
      "Validation score: 0.830267\n",
      "Iteration 10, loss = 0.60232932\n",
      "Validation score: 0.834800\n",
      "Iteration 11, loss = 0.58168781\n",
      "Validation score: 0.838400\n",
      "Iteration 12, loss = 0.56749035\n",
      "Validation score: 0.838133\n",
      "Iteration 13, loss = 0.55665096\n",
      "Validation score: 0.838667\n",
      "Iteration 14, loss = 0.54770297\n",
      "Validation score: 0.843200\n",
      "Iteration 15, loss = 0.54153026\n",
      "Validation score: 0.844267\n",
      "Iteration 16, loss = 0.53582723\n",
      "Validation score: 0.843467\n",
      "Iteration 17, loss = 0.52922366\n",
      "Validation score: 0.845200\n",
      "Iteration 18, loss = 0.52639228\n",
      "Validation score: 0.849200\n",
      "Iteration 19, loss = 0.51969432\n",
      "Validation score: 0.850667\n",
      "Iteration 20, loss = 0.51603586\n",
      "Validation score: 0.845600\n",
      "Iteration 21, loss = 0.51398236\n",
      "Validation score: 0.849467\n",
      "Iteration 22, loss = 0.50897822\n",
      "Validation score: 0.844533\n",
      "Validation score did not improve more than tol=0.000100 for two consecutive epochs. Setting learning rate to 0.004000\n",
      "Iteration 23, loss = 0.47512163\n",
      "Validation score: 0.860000\n",
      "Iteration 24, loss = 0.46006563\n",
      "Validation score: 0.861200\n",
      "Iteration 25, loss = 0.45647771\n",
      "Validation score: 0.862000\n",
      "Iteration 26, loss = 0.45385018\n",
      "Validation score: 0.863067\n",
      "Iteration 27, loss = 0.45183418\n",
      "Validation score: 0.862667\n",
      "Iteration 28, loss = 0.45007918\n",
      "Validation score: 0.863200\n",
      "Iteration 29, loss = 0.44782409\n",
      "Validation score: 0.864533\n",
      "Iteration 30, loss = 0.44666482\n",
      "Validation score: 0.860800\n",
      "Iteration 31, loss = 0.44520558\n",
      "Validation score: 0.863467\n",
      "Iteration 32, loss = 0.44354681\n",
      "Validation score: 0.863867\n",
      "Validation score did not improve more than tol=0.000100 for two consecutive epochs. Setting learning rate to 0.000800\n",
      "Iteration 33, loss = 0.43614082\n",
      "Validation score: 0.866267\n",
      "Iteration 34, loss = 0.43425329\n",
      "Validation score: 0.865333\n",
      "Iteration 35, loss = 0.43355801\n",
      "Validation score: 0.865333\n",
      "Iteration 36, loss = 0.43335217\n",
      "Validation score: 0.866800\n",
      "Iteration 37, loss = 0.43297143\n",
      "Validation score: 0.865333\n",
      "Iteration 38, loss = 0.43266186\n",
      "Validation score: 0.866933\n",
      "Iteration 39, loss = 0.43238644\n",
      "Validation score: 0.867200\n",
      "Iteration 40, loss = 0.43207777\n",
      "Validation score: 0.867467\n",
      "Iteration 41, loss = 0.43182356\n",
      "Validation score: 0.866133\n",
      "Iteration 42, loss = 0.43146748\n",
      "Validation score: 0.866933\n",
      "Iteration 43, loss = 0.43135525\n",
      "Validation score: 0.867467\n",
      "Validation score did not improve more than tol=0.000100 for two consecutive epochs. Setting learning rate to 0.000160\n",
      "Iteration 44, loss = 0.42927410\n",
      "Validation score: 0.866933\n",
      "Iteration 45, loss = 0.42909724\n",
      "Validation score: 0.867600\n",
      "Iteration 46, loss = 0.42897336\n",
      "Validation score: 0.867467\n",
      "Iteration 47, loss = 0.42893006\n",
      "Validation score: 0.868000\n",
      "Iteration 48, loss = 0.42885312\n",
      "Validation score: 0.867333\n",
      "Iteration 49, loss = 0.42879080\n",
      "Validation score: 0.867200\n",
      "Iteration 50, loss = 0.42875040\n",
      "Validation score: 0.868133\n",
      "Iteration 51, loss = 0.42861966\n",
      "Validation score: 0.868667\n",
      "Iteration 52, loss = 0.42861736\n",
      "Validation score: 0.866933\n",
      "Iteration 53, loss = 0.42853737\n",
      "Validation score: 0.867867\n",
      "Iteration 54, loss = 0.42847343\n",
      "Validation score: 0.867600\n",
      "Validation score did not improve more than tol=0.000100 for two consecutive epochs. Setting learning rate to 0.000032\n",
      "Iteration 55, loss = 0.42805611\n",
      "Validation score: 0.867867\n",
      "Iteration 56, loss = 0.42801366\n",
      "Validation score: 0.868000\n",
      "Iteration 57, loss = 0.42800496\n",
      "Validation score: 0.868000\n",
      "Validation score did not improve more than tol=0.000100 for two consecutive epochs. Setting learning rate to 0.000006\n",
      "Iteration 58, loss = 0.42790437\n",
      "Validation score: 0.868000\n",
      "Iteration 59, loss = 0.42790104\n",
      "Validation score: 0.868000\n",
      "Iteration 60, loss = 0.42789733\n",
      "Validation score: 0.868000\n",
      "Validation score did not improve more than tol=0.000100 for two consecutive epochs. Setting learning rate to 0.000001\n",
      "Iteration 61, loss = 0.42787581\n",
      "Validation score: 0.868000\n",
      "Iteration 62, loss = 0.42787520\n",
      "Validation score: 0.868000\n",
      "Iteration 63, loss = 0.42787455\n",
      "Validation score: 0.868000\n",
      "Validation score did not improve more than tol=0.000100 for two consecutive epochs. Setting learning rate to 0.000000\n",
      "Iteration 64, loss = 0.42787019\n",
      "Validation score: 0.868000\n",
      "Iteration 65, loss = 0.42787005\n",
      "Validation score: 0.868000\n",
      "Iteration 66, loss = 0.42786994\n",
      "Validation score: 0.868000\n",
      "Validation score did not improve more than tol=0.000100 for two consecutive epochs. Learning rate too small. Stopping.\n"
     ]
    }
   ],
   "source": [
    "from sklearn.neural_network import MLPClassifier\n",
    "from sklearn.model_selection import learning_curve\n",
    "\n",
    "NN = MLPClassifier( activation='relu',solver='sgd',learning_rate='adaptive',\n",
    "                   hidden_layer_sizes=(100,200,100), learning_rate_init=0.1, alpha=0.1,\n",
    "                    shuffle=True, verbose=True,early_stopping=True)\n",
    "model = NN.fit(X_tr_st, y_train)\n",
    "NN_predicted = model.predict(X_test_st);\n",
    "    "
   ]
  },
  {
   "cell_type": "markdown",
   "metadata": {},
   "source": [
    "This Shows accuracy for Neural Network which is typically lower than Random Forest. Neural Networks often covers local minima not global minima, which often means it misses the total picture and it catches overfitting problem in general but in our case we have applied early stopping to avoid it. Neural network is computational costly as it took more time to train than RF. "
   ]
  },
  {
   "cell_type": "code",
   "execution_count": 37,
   "metadata": {},
   "outputs": [
    {
     "data": {
      "text/plain": [
       "0.87492"
      ]
     },
     "execution_count": 37,
     "metadata": {},
     "output_type": "execute_result"
    }
   ],
   "source": [
    "from sklearn import metrics\n",
    "\n",
    "accr = metrics.accuracy_score(y_test, NN_predicted)\n",
    "accr"
   ]
  },
  {
   "cell_type": "code",
   "execution_count": 47,
   "metadata": {},
   "outputs": [
    {
     "name": "stdout",
     "output_type": "stream",
     "text": [
      "                 precision    recall  f1-score   support\n",
      "\n",
      "class:instagram       0.94      0.97      0.95      2500\n",
      "   class:amazon       0.95      0.98      0.97      2500\n",
      "     class:bing       0.97      0.95      0.96      2500\n",
      "   class:google       0.96      0.94      0.95      2500\n",
      " class:linkedin       0.94      0.93      0.94      2500\n",
      "  class:spotify       0.96      0.96      0.96      2500\n",
      "     class:ebay       0.94      0.94      0.94      2500\n",
      " class:facebook       0.96      0.96      0.96      2500\n",
      "  class:youtube       0.98      0.97      0.98      2500\n",
      "  class:netflix       0.95      0.95      0.95      2500\n",
      "\n",
      "    avg / total       0.96      0.96      0.96     25000\n",
      "\n"
     ]
    }
   ],
   "source": [
    "print(metrics.classification_report(y_test, predict, target_names=y_test.unique()))"
   ]
  },
  {
   "cell_type": "markdown",
   "metadata": {},
   "source": [
    "To avoid overfitting, we try to use the normalization factor alpha which penalizes weights with big magnitude in L2 equalization. Validtion score with each iteration is show during the training phase.Whenever there is no significant improvement in precision our adapative learning rate varies and tries the new epoch with smaller learning rate to avoid under/overfitting. "
   ]
  },
  {
   "cell_type": "markdown",
   "metadata": {},
   "source": [
    "# Conclusion\n"
   ]
  },
  {
   "cell_type": "markdown",
   "metadata": {},
   "source": [
    "Porblem of missing forest for trees is typically covered by Neural Network which has some other problems of slow computation and gradient. Random Forest is trainined seperately for trees which results as an ensemble of decision trees where as NN works as a single model where we use backpropagation to reduce error from every layer. One important thing about neural networks is that they are really diverse. Most random forests are applied to some set of predictor variables that don't necessarily have any kind of important arrangement\n",
    "\n",
    "In our case where we have ten classes of different traffic, RF will do it well for each class resulting in some accuracy for resemblance with a class and we can classify the flow to highest scoring trees. Problem in this case is choosing a higher estimators for proper validaiton score. for kind of data where as Neural Networks are universal approximators works better for forecasting and Image processing problems. \n",
    "\n",
    "In general,A tree is easy to create, is able to handle different types of input data (categorical and\n",
    "numerical) and is interpretable due to its kind of representation. However, Decision Trees often show\n",
    "a lack of reliability in their application to new data. Random Forest Classifiers typically work faster with tabular data. An important strength of Random Forests is that they are able to perform still well in the case of missing data. According to their construction principle, not every tree is using the same features. According to the results, Random Forest is clearly the best classifier as it achieves the best classification results \n",
    "\n",
    "Inspite of all these benefits it may be concluded that best classifier can only be declared based on input data, NN perform well in Image classification and Speech recognition.\n",
    "\n",
    "\n",
    "Authored by : Neel Kanwal"
   ]
  }
 ],
 "metadata": {
  "kernelspec": {
   "display_name": "Python 3",
   "language": "python",
   "name": "python3"
  },
  "language_info": {
   "codemirror_mode": {
    "name": "ipython",
    "version": 3
   },
   "file_extension": ".py",
   "mimetype": "text/x-python",
   "name": "python",
   "nbconvert_exporter": "python",
   "pygments_lexer": "ipython3",
   "version": "3.7.3"
  }
 },
 "nbformat": 4,
 "nbformat_minor": 2
}
